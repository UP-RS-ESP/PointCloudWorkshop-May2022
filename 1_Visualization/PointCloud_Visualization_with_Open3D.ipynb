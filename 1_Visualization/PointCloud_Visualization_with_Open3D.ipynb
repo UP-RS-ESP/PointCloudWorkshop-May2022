{
 "cells": [
  {
   "cell_type": "markdown",
   "metadata": {},
   "source": [
    "# First Steps of Visualization with Open3D\n",
    "\n",
    "*Bodo Bookhagen [bodo.bookhagen@uni-potsdam.de](mailto:bodo.bookhagen@uni-potsdam.de)*\n",
    "\n",
    "We use an airborne lidar dataset from the University of Potsdam Campus Golm.\n",
    "But you could use any dataset in LAZ, PLY, or similar format.\n",
    "\n",
    "## 0. Initiate python module imports and define some useful functions"
   ]
  },
  {
   "cell_type": "code",
   "execution_count": 1,
   "metadata": {},
   "outputs": [
    {
     "name": "stdout",
     "output_type": "stream",
     "text": [
      "Jupyter environment detected. Enabling Open3D WebVisualizer.\n",
      "[Open3D INFO] WebRTC GUI backend enabled.\n",
      "[Open3D INFO] WebRTCWindowSystem: HTTP handshake server disabled.\n"
     ]
    }
   ],
   "source": [
    "import copy, sys, os\n",
    "import numpy as np\n",
    "\n",
    "import matplotlib.pyplot as plt\n",
    "\n",
    "import open3d as o3d\n",
    "import laspy"
   ]
  },
  {
   "cell_type": "markdown",
   "metadata": {},
   "source": [
    "## 1. Load ALS point via laspy\n",
    "\n",
    "**The dataset is available via dropbox at:\n",
    "[https://www.dropbox.com/s/luak66coy8sl22l/ALS2018_UP_Golm_06May2018.laz?dl=0](https://www.dropbox.com/s/luak66coy8sl22l/ALS2018_UP_Golm_06May2018.laz?dl=0)**"
   ]
  },
  {
   "cell_type": "code",
   "execution_count": 2,
   "metadata": {},
   "outputs": [],
   "source": [
    "pc_path = '.'\n",
    "pc_fn = 'ALS2018_UP_Golm_06May2018.laz'\n",
    "pc1 = laspy.read(os.path.join(pc_path, pc_fn))"
   ]
  },
  {
   "cell_type": "code",
   "execution_count": 3,
   "metadata": {},
   "outputs": [
    {
     "data": {
      "text/plain": [
       "array([[3.62033810e+05, 5.80822980e+06, 3.39000000e+01],\n",
       "       [3.62033810e+05, 5.80822956e+06, 3.38900000e+01],\n",
       "       [3.62033880e+05, 5.80822995e+06, 3.38800000e+01],\n",
       "       ...,\n",
       "       [3.62608260e+05, 5.80847203e+06, 5.19300000e+01],\n",
       "       [3.62608480e+05, 5.80847205e+06, 4.40300000e+01],\n",
       "       [3.62608790e+05, 5.80847201e+06, 4.43700000e+01]])"
      ]
     },
     "execution_count": 3,
     "metadata": {},
     "output_type": "execute_result"
    }
   ],
   "source": [
    "xyz = np.vstack((pc1.x, pc1.y, pc1.z)).transpose()\n",
    "xyz"
   ]
  },
  {
   "cell_type": "code",
   "execution_count": 4,
   "metadata": {},
   "outputs": [
    {
     "data": {
      "text/plain": [
       "(13058731, 3)"
      ]
     },
     "execution_count": 4,
     "metadata": {},
     "output_type": "execute_result"
    }
   ],
   "source": [
    "xyz.shape"
   ]
  },
  {
   "cell_type": "code",
   "execution_count": 5,
   "metadata": {},
   "outputs": [
    {
     "data": {
      "text/plain": [
       "[<matplotlib.lines.Line2D at 0x7fe1056b1c70>]"
      ]
     },
     "execution_count": 5,
     "metadata": {},
     "output_type": "execute_result"
    },
    {
     "data": {
      "image/png": "[encoded data removed]",
      "text/plain": [
       "<Figure size 432x288 with 1 Axes>"
      ]
     },
     "metadata": {
      "needs_background": "light"
     },
     "output_type": "display_data"
    }
   ],
   "source": [
    "plt.plot(xyz[::1000,0], xyz[::1000,1], ',')"
   ]
  },
  {
   "cell_type": "markdown",
   "metadata": {},
   "source": [
    "### Access other attributes"
   ]
  },
  {
   "cell_type": "code",
   "execution_count": 7,
   "metadata": {},
   "outputs": [
    {
     "data": {
      "text/plain": [
       "<SubFieldView([2 2 2 ... 5 5 5])>"
      ]
     },
     "execution_count": 7,
     "metadata": {},
     "output_type": "execute_result"
    }
   ],
   "source": [
    "pc1.classification"
   ]
  },
  {
   "cell_type": "code",
   "execution_count": 6,
   "metadata": {},
   "outputs": [
    {
     "name": "stdout",
     "output_type": "stream",
     "text": [
      "[1 2 5 6 7]\n"
     ]
    }
   ],
   "source": [
    "print(np.unique(pc1.classification))"
   ]
  },
  {
   "cell_type": "code",
   "execution_count": 7,
   "metadata": {},
   "outputs": [
    {
     "data": {
      "text/plain": [
       "array([[3.62033810e+05, 5.80822980e+06, 3.39000000e+01],\n",
       "       [3.62033810e+05, 5.80822956e+06, 3.38900000e+01],\n",
       "       [3.62033880e+05, 5.80822995e+06, 3.38800000e+01],\n",
       "       ...,\n",
       "       [3.62607220e+05, 5.80847200e+06, 4.30000000e+01],\n",
       "       [3.62608150e+05, 5.80847212e+06, 4.27600000e+01],\n",
       "       [3.62608060e+05, 5.80847214e+06, 4.27700000e+01]])"
      ]
     },
     "execution_count": 7,
     "metadata": {},
     "output_type": "execute_result"
    }
   ],
   "source": [
    "pc1.xyz[pc1.classification == 2]"
   ]
  },
  {
   "cell_type": "code",
   "execution_count": 8,
   "metadata": {},
   "outputs": [
    {
     "data": {
      "text/plain": [
       "(6711186, 3)"
      ]
     },
     "execution_count": 8,
     "metadata": {},
     "output_type": "execute_result"
    }
   ],
   "source": [
    "pc1.xyz[pc1.classification == 2].shape"
   ]
  },
  {
   "cell_type": "code",
   "execution_count": 11,
   "metadata": {},
   "outputs": [
    {
     "data": {
      "text/plain": [
       "array([1006, 1097, 1319, ...,  343,  598, 1400], dtype=uint16)"
      ]
     },
     "execution_count": 11,
     "metadata": {},
     "output_type": "execute_result"
    }
   ],
   "source": [
    "pc1.intensity"
   ]
  },
  {
   "cell_type": "code",
   "execution_count": 12,
   "metadata": {},
   "outputs": [
    {
     "data": {
      "text/plain": [
       "array([74, 74, 76, ..., 90, 90, 90], dtype=uint16)"
      ]
     },
     "execution_count": 12,
     "metadata": {},
     "output_type": "execute_result"
    }
   ],
   "source": [
    "pc1.point_source_id"
   ]
  },
  {
   "cell_type": "code",
   "execution_count": 13,
   "metadata": {},
   "outputs": [
    {
     "data": {
      "text/plain": [
       "array([38504.46241523, 38504.4624162 , 38723.59231363, ...,\n",
       "       39375.46490256, 39375.47119874, 39375.47748996])"
      ]
     },
     "execution_count": 13,
     "metadata": {},
     "output_type": "execute_result"
    }
   ],
   "source": [
    "pc1.gps_time"
   ]
  },
  {
   "cell_type": "code",
   "execution_count": 9,
   "metadata": {},
   "outputs": [],
   "source": [
    "pts_cl2=pc1.points[pc1.classification == 2]"
   ]
  },
  {
   "cell_type": "code",
   "execution_count": 15,
   "metadata": {},
   "outputs": [
    {
     "data": {
      "text/plain": [
       "array([(6203381, 822980, 3390, 1006,  9, 2,  28, 0,  74, 38504.46241523),\n",
       "       (6203381, 822956, 3389, 1097,  9, 2,  28, 0,  74, 38504.4624162 ),\n",
       "       (6203388, 822995, 3388, 1319,  9, 2, -12, 0,  76, 38723.59231363),\n",
       "       ...,\n",
       "       (6260722, 847200, 4300,  655, 27, 2, -24, 0, 100, 39709.50352815),\n",
       "       (6260815, 847212, 4276,  805, 18, 2,  11, 0,  87, 39120.31679681),\n",
       "       (6260806, 847214, 4277, 1156, 27, 2,   7, 0,  90, 39375.4586171 )],\n",
       "      dtype=[('X', '<i4'), ('Y', '<i4'), ('Z', '<i4'), ('intensity', '<u2'), ('bit_fields', 'u1'), ('raw_classification', 'u1'), ('scan_angle_rank', 'i1'), ('user_data', 'u1'), ('point_source_id', '<u2'), ('gps_time', '<f8')])"
      ]
     },
     "execution_count": 15,
     "metadata": {},
     "output_type": "execute_result"
    }
   ],
   "source": [
    "pts_cl2.array"
   ]
  },
  {
   "cell_type": "markdown",
   "metadata": {},
   "source": [
    "## 2. Convert numpy array to Open3D point cloud"
   ]
  },
  {
   "cell_type": "code",
   "execution_count": 10,
   "metadata": {},
   "outputs": [
    {
     "name": "stdout",
     "output_type": "stream",
     "text": [
      "pcd: PointCloud with 13058731 points.\n"
     ]
    }
   ],
   "source": [
    "pcd = o3d.geometry.PointCloud()\n",
    "pcd.points = o3d.utility.Vector3dVector(xyz)\n",
    "print('pcd:', pcd)"
   ]
  },
  {
   "cell_type": "code",
   "execution_count": 11,
   "metadata": {},
   "outputs": [
    {
     "name": "stdout",
     "output_type": "stream",
     "text": [
      "[Open3D INFO]   -- Mouse view control --\n",
      "[Open3D INFO]     Left button + drag         : Rotate.\n",
      "[Open3D INFO]     Ctrl + left button + drag  : Translate.\n",
      "[Open3D INFO]     Wheel button + drag        : Translate.\n",
      "[Open3D INFO]     Shift + left button + drag : Roll.\n",
      "[Open3D INFO]     Wheel                      : Zoom in/out.\n",
      "[Open3D INFO] \n",
      "[Open3D INFO]   -- Keyboard view control --\n",
      "[Open3D INFO]     [/]          : Increase/decrease field of view.\n",
      "[Open3D INFO]     R            : Reset view point.\n",
      "[Open3D INFO]     Ctrl/Cmd + C : Copy current view status into the clipboard.\n",
      "[Open3D INFO]     Ctrl/Cmd + V : Paste view status from clipboard.\n",
      "[Open3D INFO] \n",
      "[Open3D INFO]   -- General control --\n",
      "[Open3D INFO]     Q, Esc       : Exit window.\n",
      "[Open3D INFO]     H            : Print help message.\n",
      "[Open3D INFO]     P, PrtScn    : Take a screen capture.\n",
      "[Open3D INFO]     D            : Take a depth capture.\n",
      "[Open3D INFO]     O            : Take a capture of current rendering settings.\n",
      "[Open3D INFO]     Alt + Enter  : Toggle between full screen and windowed mode.\n",
      "[Open3D INFO] \n",
      "[Open3D INFO]   -- Render mode control --\n",
      "[Open3D INFO]     L            : Turn on/off lighting.\n",
      "[Open3D INFO]     +/-          : Increase/decrease point size.\n",
      "[Open3D INFO]     Ctrl + +/-   : Increase/decrease width of geometry::LineSet.\n",
      "[Open3D INFO]     N            : Turn on/off point cloud normal rendering.\n",
      "[Open3D INFO]     S            : Toggle between mesh flat shading and smooth shading.\n",
      "[Open3D INFO]     W            : Turn on/off mesh wireframe.\n",
      "[Open3D INFO]     B            : Turn on/off back face rendering.\n",
      "[Open3D INFO]     I            : Turn on/off image zoom in interpolation.\n",
      "[Open3D INFO]     T            : Toggle among image render:\n",
      "[Open3D INFO]                    no stretch / keep ratio / freely stretch.\n",
      "[Open3D INFO] \n",
      "[Open3D INFO]   -- Color control --\n",
      "[Open3D INFO]     0..4,9       : Set point cloud color option.\n",
      "[Open3D INFO]                    0 - Default behavior, render point color.\n",
      "[Open3D INFO]                    1 - Render point color.\n",
      "[Open3D INFO]                    2 - x coordinate as color.\n",
      "[Open3D INFO]                    3 - y coordinate as color.\n",
      "[Open3D INFO]                    4 - z coordinate as color.\n",
      "[Open3D INFO]                    9 - normal as color.\n",
      "[Open3D INFO]     Ctrl + 0..4,9: Set mesh color option.\n",
      "[Open3D INFO]                    0 - Default behavior, render uniform gray color.\n",
      "[Open3D INFO]                    1 - Render point color.\n",
      "[Open3D INFO]                    2 - x coordinate as color.\n",
      "[Open3D INFO]                    3 - y coordinate as color.\n",
      "[Open3D INFO]                    4 - z coordinate as color.\n",
      "[Open3D INFO]                    9 - normal as color.\n",
      "[Open3D INFO]     Shift + 0..4 : Color map options.\n",
      "[Open3D INFO]                    0 - Gray scale color.\n",
      "[Open3D INFO]                    1 - JET color map.\n",
      "[Open3D INFO]                    2 - SUMMER color map.\n",
      "[Open3D INFO]                    3 - WINTER color map.\n",
      "[Open3D INFO]                    4 - HOT color map.\n",
      "[Open3D INFO] \n"
     ]
    }
   ],
   "source": [
    "o3d.visualization.draw_geometries([pcd])"
   ]
  },
  {
   "cell_type": "code",
   "execution_count": 12,
   "metadata": {},
   "outputs": [],
   "source": [
    "pcd.estimate_normals(\n",
    "    o3d.geometry.KDTreeSearchParamHybrid(radius=1, max_nn=12))\n",
    "pcd.orient_normals_to_align_with_direction([0., 0., 1.])"
   ]
  },
  {
   "cell_type": "code",
   "execution_count": 13,
   "metadata": {},
   "outputs": [],
   "source": [
    "o3d.visualization.draw_geometries([pcd])"
   ]
  },
  {
   "cell_type": "code",
   "execution_count": 14,
   "metadata": {},
   "outputs": [
    {
     "name": "stdout",
     "output_type": "stream",
     "text": [
      "pcd_1m:  PointCloud with 640668 points.\n"
     ]
    }
   ],
   "source": [
    "pcd_1m = pcd.voxel_down_sample(voxel_size=1)\n",
    "print('pcd_1m: ', pcd_1m)"
   ]
  },
  {
   "cell_type": "code",
   "execution_count": 15,
   "metadata": {},
   "outputs": [],
   "source": [
    "o3d.visualization.draw_geometries([pcd_1m])"
   ]
  },
  {
   "cell_type": "markdown",
   "metadata": {},
   "source": [
    "### Define some useful functions for visualization"
   ]
  },
  {
   "cell_type": "code",
   "execution_count": 16,
   "metadata": {},
   "outputs": [],
   "source": [
    "#Generate function to plot two point clouds in different colors\n",
    "def draw_2pcd(pcd1, pcd2):\n",
    "    pcd1_temp = copy.deepcopy(pcd1)\n",
    "    pcd2_temp = copy.deepcopy(pcd2)\n",
    "    pcd1_temp.paint_uniform_color([1, 0.706, 0]) #orange\n",
    "    pcd2_temp.paint_uniform_color([0, 0.651, 0.929]) #cyan\n",
    "    o3d.visualization.draw_geometries([pcd1_temp, pcd2_temp])\n",
    "    \n",
    "def get_colors(inp, colormap, vmin=None, vmax=None):\n",
    "    if vmin == None:\n",
    "        vmin=np.nanmin(inp)\n",
    "    if vmax == None:\n",
    "        vmax=np.nanmax(inp)\n",
    "    norm = plt.Normalize(vmin, vmax)\n",
    "    return colormap(norm(inp))\n",
    "\n",
    "def get_colors_log(inp, colormap, vmin=None, vmax=None):\n",
    "    if vmin == None:\n",
    "        vmin=np.nanmin(np.log10(inp))\n",
    "    if vmax == None:\n",
    "        vmax=np.nanmax(np.log10(inp))\n",
    "    norm = plt.Normalize(vmin, vmax)\n",
    "    return colormap(norm(inp))\n"
   ]
  },
  {
   "cell_type": "code",
   "execution_count": 17,
   "metadata": {},
   "outputs": [],
   "source": [
    "draw_2pcd(pcd, pcd_1m)"
   ]
  },
  {
   "cell_type": "markdown",
   "metadata": {},
   "source": [
    "#### Custom-made color scales"
   ]
  },
  {
   "cell_type": "code",
   "execution_count": 19,
   "metadata": {},
   "outputs": [
    {
     "data": {
      "text/plain": [
       "array([[3.62610760e+05, 5.80847148e+06, 5.07100000e+01],\n",
       "       [3.62609020e+05, 5.80847118e+06, 4.96200000e+01],\n",
       "       [3.62609460e+05, 5.80847183e+06, 4.50766667e+01],\n",
       "       ...,\n",
       "       [3.62347713e+05, 5.80871826e+06, 3.47157692e+01],\n",
       "       [3.62197760e+05, 5.80852126e+06, 4.67922807e+01],\n",
       "       [3.62350684e+05, 5.80852035e+06, 3.55075000e+01]])"
      ]
     },
     "execution_count": 19,
     "metadata": {},
     "output_type": "execute_result"
    }
   ],
   "source": [
    "np.asarray(pcd_1m.points)"
   ]
  },
  {
   "cell_type": "code",
   "execution_count": 21,
   "metadata": {},
   "outputs": [],
   "source": [
    "rgb = get_colors(np.asarray(pcd_1m.points)[:,2], plt.cm.terrain, \n",
    "                 vmin=np.percentile(np.asarray(pcd_1m.points)[:,2],2), \n",
    "                 vmax=np.percentile(np.asarray(pcd_1m.points)[:,2],98))\n",
    "pcd_1m.colors = o3d.utility.Vector3dVector(rgb[:,0:3])\n",
    "o3d.visualization.draw_geometries([pcd_1m])"
   ]
  },
  {
   "cell_type": "markdown",
   "metadata": {},
   "source": [
    "### Calculate point density using a kdtree and visualize"
   ]
  },
  {
   "cell_type": "code",
   "execution_count": 22,
   "metadata": {},
   "outputs": [],
   "source": [
    "from scipy.spatial import cKDTree\n",
    "A = np.asarray(pcd_1m.points)\n",
    "\n",
    "k=24\n",
    "dist, indices = cKDTree(A).query(A, k=k, workers=-1)"
   ]
  },
  {
   "cell_type": "code",
   "execution_count": 23,
   "metadata": {},
   "outputs": [
    {
     "data": {
      "text/plain": [
       "array([[0.        , 0.6543938 , 1.16749256, ..., 2.44500014, 2.44530737,\n",
       "        2.46469192],\n",
       "       [0.        , 0.64736431, 0.68331301, ..., 1.90581816, 1.92137546,\n",
       "        1.95274966],\n",
       "       [0.        , 0.30796825, 0.59897863, ..., 2.29997191, 2.40736082,\n",
       "        2.50140183],\n",
       "       ...,\n",
       "       [0.        , 0.99967565, 1.00963284, ..., 2.81595755, 2.9547347 ,\n",
       "        2.97207579],\n",
       "       [0.        , 0.97321743, 1.00849812, ..., 2.5495675 , 2.5968398 ,\n",
       "        2.70566055],\n",
       "       [0.        , 0.339538  , 0.7524789 , ..., 2.19861351, 2.24371408,\n",
       "        2.25036952]])"
      ]
     },
     "execution_count": 23,
     "metadata": {},
     "output_type": "execute_result"
    }
   ],
   "source": [
    "dist"
   ]
  },
  {
   "cell_type": "code",
   "execution_count": 24,
   "metadata": {},
   "outputs": [],
   "source": [
    "max_distances = np.max(dist, axis=1)\n",
    "circle_volume = max_distances**3 * (4./3.) * np.pi\n",
    "pt_density = k / circle_volume #nr of points / area"
   ]
  },
  {
   "cell_type": "code",
   "execution_count": 25,
   "metadata": {},
   "outputs": [],
   "source": [
    "rgb = get_colors(pt_density, plt.cm.viridis, \n",
    "                 vmin=np.percentile(pt_density,2), \n",
    "                 vmax=np.percentile(pt_density,98))\n",
    "pcd_1m.colors = o3d.utility.Vector3dVector(rgb[:,0:3])\n",
    "o3d.visualization.draw_geometries([pcd_1m])"
   ]
  },
  {
   "cell_type": "code",
   "execution_count": null,
   "metadata": {},
   "outputs": [],
   "source": []
  }
 ],
 "metadata": {
  "kernelspec": {
   "display_name": "Python 3",
   "language": "python",
   "name": "python3"
  },
  "language_info": {
   "codemirror_mode": {
    "name": "ipython",
    "version": 3
   },
   "file_extension": ".py",
   "mimetype": "text/x-python",
   "name": "python",
   "nbconvert_exporter": "python",
   "pygments_lexer": "ipython3",
   "version": "3.7.3"
  }
 },
 "nbformat": 4,
 "nbformat_minor": 4
}
